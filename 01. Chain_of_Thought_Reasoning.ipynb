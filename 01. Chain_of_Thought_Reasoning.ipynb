{
 "cells": [
  {
   "cell_type": "markdown",
   "id": "0e7531d5-0c22-49ad-9d37-8b08eec7d4e0",
   "metadata": {},
   "source": [
    "# Razonamiento de Cadena de Pensamiento"
   ]
  },
  {
   "cell_type": "markdown",
   "id": "e613f6af-ce1c-49ea-ae99-0d2e3fa3fae1",
   "metadata": {},
   "source": [
    "## Configuración"
   ]
  },
  {
   "cell_type": "code",
   "execution_count": 1,
   "id": "0df1c9e8",
   "metadata": {
    "height": 133
   },
   "outputs": [],
   "source": [
    "import os\n",
    "import openai\n",
    "import sys\n",
    "from openai import OpenAI\n",
    "\n",
    "from helper import get_openai_api_key\n",
    "openai.api_key = get_openai_api_key()\n",
    "client = OpenAI(api_key=openai.api_key) \n"
   ]
  },
  {
   "cell_type": "code",
   "execution_count": 2,
   "id": "b98a05b6",
   "metadata": {
    "height": 184
   },
   "outputs": [],
   "source": [
    "def get_completion_from_messages(messages, \n",
    "                                 model=\"gpt-3.5-turbo\", \n",
    "                                 temperature=0, max_tokens=500):\n",
    "    response = client.chat.completions.create( \n",
    "        model=model,\n",
    "        messages=messages,\n",
    "        temperature=temperature, \n",
    "        max_tokens=max_tokens, \n",
    "    )\n",
    "    return response.choices[0].message.content"
   ]
  },
  {
   "cell_type": "markdown",
   "id": "119d273f-df72-47e2-a9a6-a8994d742aec",
   "metadata": {},
   "source": [
    "## Prompting de Cadena de Pensamiento"
   ]
  },
  {
   "cell_type": "code",
   "execution_count": 3,
   "id": "e0e66beb-8fb5-4c7b-afa7-13d20ded1d49",
   "metadata": {
    "height": 1557
   },
   "outputs": [],
   "source": [
    "delimiter = \"####\"\n",
    "system_message = f\"\"\"\n",
    "Sigue estos pasos para responder a las consultas de los clientes.\n",
    "La consulta del cliente estará delimitada con cuatro hashtags,\\\n",
    "es decir, {delimiter}.\n",
    "\n",
    "Paso 1:{delimiter} Primero decide si el usuario está \\\n",
    "preguntando sobre un producto o productos específicos. \\\n",
    "La categoría de producto no cuenta.\n",
    "\n",
    "Paso 2:{delimiter} Si el usuario pregunta sobre \\\n",
    "productos específicos, identifica si \\\n",
    "los productos están en la siguiente lista.\n",
    "Todos los productos disponibles:\n",
    "1. Producto: TechPro Ultrabook\n",
    "   Categoría: Computadoras y Laptops\n",
    "   Marca: TechPro\n",
    "   Número de Modelo: TP-UB100\n",
    "   Garantía: 1 año\n",
    "   Calificación: 4.5\n",
    "   Características: Pantalla de 13.3 pulgadas, 8GB RAM, 256GB SSD, procesador Intel Core i5\n",
    "   Descripción: Un ultrabook elegante y ligero para el uso diario.\n",
    "   Precio: $799.99\n",
    "\n",
    "2. Producto: BlueWave Gaming Laptop\n",
    "   Categoría: Computadoras y Laptops\n",
    "   Marca: BlueWave\n",
    "   Número de Modelo: BW-GL200\n",
    "   Garantía: 2 años\n",
    "   Calificación: 4.7\n",
    "   Características: Pantalla de 15.6 pulgadas, 16GB RAM, 512GB SSD, NVIDIA GeForce RTX 3060\n",
    "   Descripción: Una laptop para juegos de alto rendimiento para una experiencia inmersiva.\n",
    "   Precio: $1199.99\n",
    "\n",
    "3. Producto: PowerLite Convertible\n",
    "   Categoría: Computadoras y Laptops\n",
    "   Marca: PowerLite\n",
    "   Número de Modelo: PL-CV300\n",
    "   Garantía: 1 año\n",
    "   Calificación: 4.3\n",
    "   Características: Pantalla táctil de 14 pulgadas, 8GB RAM, 256GB SSD, bisagra de 360 grados\n",
    "   Descripción: Una laptop convertible versátil con una pantalla táctil sensible.\n",
    "   Precio: $699.99\n",
    "\n",
    "4. Producto: TechPro Desktop\n",
    "   Categoría: Computadoras y Laptops\n",
    "   Marca: TechPro\n",
    "   Número de Modelo: TP-DT500\n",
    "   Garantía: 1 año\n",
    "   Calificación: 4.4\n",
    "   Características: Procesador Intel Core i7, 16GB RAM, 1TB HDD, NVIDIA GeForce GTX 1660\n",
    "   Descripción: Una potente computadora de escritorio para trabajar y jugar.\n",
    "   Precio: $999.99\n",
    "\n",
    "5. Producto: BlueWave Chromebook\n",
    "   Categoría: Computadoras y Laptops\n",
    "   Marca: BlueWave\n",
    "   Número de Modelo: BW-CB100\n",
    "   Garantía: 1 año\n",
    "   Calificación: 4.1\n",
    "   Características: Pantalla de 11.6 pulgadas, 4GB RAM, 32GB eMMC, Chrome OS\n",
    "   Descripción: Un Chromebook compacto y asequible para las tareas diarias.\n",
    "   Precio: $249.99\n",
    "\n",
    "Paso 3:{delimiter} Si el mensaje contiene productos \\\n",
    "de la lista anterior, enumera cualquier suposición que el \\\n",
    "usuario esté haciendo en su \\\n",
    "mensaje, por ejemplo, que la Laptop X es más grande que \\\n",
    "la Laptop Y, o que la Laptop Z tiene una garantía de 2 años.\n",
    "\n",
    "Paso 4:{delimiter}: Si el usuario hizo alguna suposición, \\\n",
    "averigua si la suposición es cierta basándote en la \\\n",
    "información de tu producto.\n",
    "\n",
    "Paso 5:{delimiter}: Primero, corrige amablemente las \\\n",
    "suposiciones incorrectas del cliente si corresponde. \\\n",
    "Solo menciona o haz referencia a los productos de la lista de \\\n",
    "5 productos disponibles, ya que estos son los únicos 5 \\\n",
    "productos que vende la tienda. \\\n",
    "Responde al cliente en un tono amigable.\n",
    "\n",
    "Usa el siguiente formato:\n",
    "Paso 1:{delimiter} <razonamiento del paso 1>\n",
    "Paso 2:{delimiter} <razonamiento del paso 2>\n",
    "Paso 3:{delimiter} <razonamiento del paso 3>\n",
    "Paso 4:{delimiter} <razonamiento del paso 4>\n",
    "Respuesta al usuario:{delimiter} <respuesta al cliente>\n",
    "\n",
    "Asegúrate de incluir {delimiter} para separar cada paso.\n",
    "\"\"\""
   ]
  },
  {
   "cell_type": "code",
   "execution_count": 4,
   "id": "6be1ea0a-a816-4694-8a79-77d985f2e274",
   "metadata": {
    "height": 235
   },
   "outputs": [
    {
     "name": "stdout",
     "output_type": "stream",
     "text": [
      "#### Paso 1: El usuario está preguntando sobre dos productos específicos: la Chromebook BlueWave y la computadora de escritorio TechPro.\n",
      "\n",
      "#### Paso 2: Ambos productos están en la lista proporcionada.\n",
      "\n",
      "#### Paso 3: El usuario está asumiendo que la Chromebook BlueWave es más cara que la computadora de escritorio TechPro.\n",
      "\n",
      "#### Paso 4: La Chromebook BlueWave tiene un precio de $249.99, mientras que la computadora de escritorio TechPro tiene un precio de $999.99. Por lo tanto, la Chromebook BlueWave es $750 más barata que la computadora de escritorio TechPro.\n",
      "\n",
      "#### Respuesta al usuario: La Chromebook BlueWave es $750 más barata que la computadora de escritorio TechPro.\n"
     ]
    }
   ],
   "source": [
    "user_message = f\"\"\"\n",
    "por cuánto es más cara la Chromebook BlueWave \\\n",
    "que la computadora de escritorio TechPro\"\"\"\n",
    "\n",
    "messages =  [  \n",
    "{'role':'system', \n",
    " 'content': system_message},    \n",
    "{'role':'user', \n",
    " 'content': f\"{delimiter}{user_message}{delimiter}\"},  \n",
    "] \n",
    "\n",
    "response = get_completion_from_messages(messages)\n",
    "print(response)"
   ]
  },
  {
   "cell_type": "code",
   "execution_count": 5,
   "id": "f51afe6d",
   "metadata": {
    "height": 184
   },
   "outputs": [
    {
     "name": "stdout",
     "output_type": "stream",
     "text": [
      "#### Paso 1: El usuario está preguntando sobre un tipo de producto que no está en la lista de productos disponibles.\n",
      "\n",
      "Respuesta al usuario: Lo siento, en nuestra tienda actualmente no vendemos televisores. ¿Puedo ayudarte con información sobre alguno de nuestros productos disponibles?\n"
     ]
    }
   ],
   "source": [
    "user_message = f\"\"\"\n",
    "venden televisores\"\"\"\n",
    "messages =  [  \n",
    "{'role':'system', \n",
    " 'content': system_message},    \n",
    "{'role':'user', \n",
    " 'content': f\"{delimiter}{user_message}{delimiter}\"},  \n",
    "] \n",
    "response = get_completion_from_messages(messages)\n",
    "print(response)"
   ]
  },
  {
   "cell_type": "markdown",
   "id": "a552a4f6-5e65-4d85-9579-5263f720aa10",
   "metadata": {},
   "source": [
    "## Pensamiento interno\n",
    "- Como le pedimos al LLM que separe sus pasos de razonamiento con un delimitador, podemos ocultar el razonamiento de la cadena de pensamiento del resultado final que ve el usuario."
   ]
  },
  {
   "cell_type": "code",
   "execution_count": 6,
   "id": "2a825237",
   "metadata": {
    "height": 129
   },
   "outputs": [
    {
     "name": "stdout",
     "output_type": "stream",
     "text": [
      "Paso 1: El usuario está preguntando sobre un tipo de producto que no está en la lista de productos disponibles.\n",
      "\n",
      "Respuesta al usuario: Lo siento, en nuestra tienda actualmente no vendemos televisores. ¿Puedo ayudarte con información sobre alguno de nuestros productos disponibles?\n"
     ]
    }
   ],
   "source": [
    "try:\n",
    "    final_response = response.split(delimiter)[-1].strip()\n",
    "except Exception as e:\n",
    "    final_response = \"Lo siento, estoy teniendo problemas en este momento, por favor intenta hacer otra pregunta.\"\n",
    "    \n",
    "print(final_response)"
   ]
  }
 ],
 "metadata": {
  "kernelspec": {
   "display_name": "Python 3 (ipykernel)",
   "language": "python",
   "name": "python3"
  },
  "language_info": {
   "codemirror_mode": {
    "name": "ipython",
    "version": 3
   },
   "file_extension": ".py",
   "mimetype": "text/x-python",
   "name": "python",
   "nbconvert_exporter": "python",
   "pygments_lexer": "ipython3",
   "version": "3.9.13"
  }
 },
 "nbformat": 4,
 "nbformat_minor": 5
}
