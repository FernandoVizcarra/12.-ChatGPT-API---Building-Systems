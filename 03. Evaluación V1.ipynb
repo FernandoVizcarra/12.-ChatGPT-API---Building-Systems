{
 "cells": [
  {
   "cell_type": "markdown",
   "id": "04aecfba-d254-4c28-b472-025932bc8a28",
   "metadata": {},
   "source": [
    "# Sistema de Evaluación Versión 1\n",
    "\n",
    "Evaluar las respuestas de un LLM cuando hay una única \"respuesta correcta\"."
   ]
  },
  {
   "cell_type": "markdown",
   "id": "5f3ebd6b-8982-4b34-8c2f-90139749f122",
   "metadata": {},
   "source": [
    "## Configuración\n",
    "#### Clave de API y las librerías de Python relevantes."
   ]
  },
  {
   "cell_type": "code",
   "execution_count": 5,
   "id": "739371db",
   "metadata": {
    "height": 167
   },
   "outputs": [],
   "source": [
    "import os\n",
    "import openai\n",
    "import sys\n",
    "from openai import OpenAI\n",
    "import utils \n",
    "\n",
    "from helper import get_openai_api_key\n",
    "openai.api_key = get_openai_api_key()\n",
    "client = OpenAI(api_key=openai.api_key) "
   ]
  },
  {
   "cell_type": "code",
   "execution_count": 6,
   "id": "7b84b08a",
   "metadata": {
    "height": 150
   },
   "outputs": [],
   "source": [
    "def get_completion_from_messages(messages, \n",
    "                                 model=\"gpt-3.5-turbo\", \n",
    "                                 temperature=0, max_tokens=500):\n",
    "    response = client.chat.completions.create( \n",
    "        model=model,\n",
    "        messages=messages,\n",
    "        temperature=temperature, \n",
    "        max_tokens=max_tokens, \n",
    "    )\n",
    "    return response.choices[0].message.content"
   ]
  },
  {
   "cell_type": "markdown",
   "id": "b90ab304-3357-4f00-bac6-061878868de2",
   "metadata": {},
   "source": [
    "#### Obtener los productos y categorías relevantes\n",
    "Esta es la lista de productos y categorías que se encuentran en el catálogo de productos."
   ]
  },
  {
   "cell_type": "code",
   "execution_count": 8,
   "id": "423f24ff",
   "metadata": {
    "height": 48
   },
   "outputs": [
    {
     "data": {
      "text/plain": [
       "{'Computers and Laptops': ['TechPro Ultrabook',\n",
       "  'BlueWave Gaming Laptop',\n",
       "  'PowerLite Convertible',\n",
       "  'TechPro Desktop',\n",
       "  'BlueWave Chromebook'],\n",
       " 'Smartphones and Accessories': ['SmartX ProPhone',\n",
       "  'MobiTech PowerCase',\n",
       "  'SmartX MiniPhone',\n",
       "  'MobiTech Wireless Charger',\n",
       "  'SmartX EarBuds'],\n",
       " 'Televisions and Home Theater Systems': ['CineView 4K TV',\n",
       "  'SoundMax Home Theater',\n",
       "  'CineView 8K TV',\n",
       "  'SoundMax Soundbar',\n",
       "  'CineView OLED TV'],\n",
       " 'Gaming Consoles and Accessories': ['GameSphere X',\n",
       "  'ProGamer Controller',\n",
       "  'GameSphere Y',\n",
       "  'ProGamer Racing Wheel',\n",
       "  'GameSphere VR Headset'],\n",
       " 'Audio Equipment': ['AudioPhonic Noise-Canceling Headphones',\n",
       "  'WaveSound Bluetooth Speaker',\n",
       "  'AudioPhonic True Wireless Earbuds',\n",
       "  'WaveSound Soundbar',\n",
       "  'AudioPhonic Turntable'],\n",
       " 'Cameras and Camcorders': ['FotoSnap DSLR Camera',\n",
       "  'ActionCam 4K',\n",
       "  'FotoSnap Mirrorless Camera',\n",
       "  'ZoomMaster Camcorder',\n",
       "  'FotoSnap Instant Camera']}"
      ]
     },
     "execution_count": 8,
     "metadata": {},
     "output_type": "execute_result"
    }
   ],
   "source": [
    "products_and_category = utils.get_products_and_category()\n",
    "products_and_category"
   ]
  },
  {
   "cell_type": "markdown",
   "id": "7f1d1cb4-72f0-4a1a-9dd2-c5a7305ce249",
   "metadata": {},
   "source": [
    "### Encontrar nombres de productos y categorías relevantes (versión 1)\n",
    "Esta podría ser la versión que está en producción."
   ]
  },
  {
   "cell_type": "code",
   "execution_count": 9,
   "id": "7aad328a",
   "metadata": {
    "height": 775
   },
   "outputs": [],
   "source": [
    "def find_category_and_product_v1(user_input,products_and_category):\n",
    "\n",
    "    delimiter = \"####\"\n",
    "    system_message = f\"\"\"Se te proporcionarán consultas de servicio al cliente. \\\n",
    "    La consulta de servicio al cliente estará delimitada por los caracteres {delimiter}.\n",
    "    Genera como salida una lista de Python de objetos JSON, donde cada objeto tiene el siguiente formato:\n",
    "        'category': <una de Computers and Laptops, Smartphones and Accessories, Televisions and Home Theater Systems, \\\n",
    "    Gaming Consoles and Accessories, Audio Equipment, Cameras and Camcorders>,\n",
    "    Y\n",
    "        'products': <una lista de productos que deben encontrarse en los productos permitidos a continuación>\n",
    "\n",
    "\n",
    "    Donde las categorías y productos deben encontrarse en la consulta de servicio al cliente.\n",
    "    Si se menciona un producto, debe estar asociado con la categoría correcta en la lista de productos permitidos a continuación.\n",
    "    Si no se encuentran productos o categorías, genera una lista vacía.\n",
    "    \n",
    "\n",
    "    Enumera todos los productos que son relevantes para la consulta del cliente basándote en qué tan cercanamente se relaciona\n",
    "    con el nombre del producto y la categoría del producto.\n",
    "    No asumas, a partir del nombre del producto, ninguna característica o atributo como calidad relativa o precio.\n",
    "\n",
    "    Los productos permitidos se proporcionan en formato JSON.\n",
    "    Las claves de cada elemento representan la categoría.\n",
    "    Los valores de cada elemento son una lista de productos que están dentro de esa categoría.\n",
    "    Productos permitidos: {products_and_category}\n",
    "    \n",
    "\n",
    "    \"\"\"\n",
    "    \n",
    "    few_shot_user_1 = \"\"\"Quiero la computadora más cara.\"\"\"\n",
    "    few_shot_assistant_1 = \"\"\" \n",
    "    [{'category': 'Computers and Laptops', \\\n",
    "'products': ['TechPro Ultrabook', 'BlueWave Gaming Laptop', 'PowerLite Convertible', 'TechPro Desktop', 'BlueWave Chromebook']}]\n",
    "    \"\"\"\n",
    "    \n",
    "    messages =  [  \n",
    "    {'role':'system', 'content': system_message},    \n",
    "    {'role':'user', 'content': f\"{delimiter}{few_shot_user_1}{delimiter}\"},  \n",
    "    {'role':'assistant', 'content': few_shot_assistant_1 },\n",
    "    {'role':'user', 'content': f\"{delimiter}{user_input}{delimiter}\"},  \n",
    "    ] \n",
    "    return get_completion_from_messages(messages)"
   ]
  },
  {
   "cell_type": "markdown",
   "id": "0f13cb2b-e36e-4166-8332-826288e92c61",
   "metadata": {},
   "source": [
    "### Evaluar en algunas consultas"
   ]
  },
  {
   "cell_type": "code",
   "execution_count": 10,
   "id": "cce5b29f",
   "metadata": {
    "height": 99
   },
   "outputs": [
    {
     "name": "stdout",
     "output_type": "stream",
     "text": [
      "\n",
      "    [{'category': 'Televisions and Home Theater Systems', 'products': ['CineView 4K TV', 'SoundMax Home Theater', 'CineView 8K TV', 'SoundMax Soundbar', 'CineView OLED TV']}]\n"
     ]
    }
   ],
   "source": [
    "customer_msg_0 = f\"\"\"¿Qué televisor puedo comprar si tengo un presupuesto limitado?\"\"\"\n",
    "\n",
    "products_by_category_0 = find_category_and_product_v1(customer_msg_0,\n",
    "                                                      products_and_category)\n",
    "print(products_by_category_0)"
   ]
  },
  {
   "cell_type": "code",
   "execution_count": 11,
   "id": "8ad30ad4",
   "metadata": {
    "height": 99
   },
   "outputs": [
    {
     "name": "stdout",
     "output_type": "stream",
     "text": [
      "\n",
      "    [{'category': 'Smartphones and Accessories', 'products': ['MobiTech PowerCase', 'MobiTech Wireless Charger']}]\n",
      "    \n"
     ]
    }
   ],
   "source": [
    "customer_msg_1 = f\"\"\"Necesito un cargador para mi smartphone\"\"\"\n",
    "\n",
    "products_by_category_1 = find_category_and_product_v1(customer_msg_1,\n",
    "                                                      products_and_category)\n",
    "print(products_by_category_1)"
   ]
  },
  {
   "cell_type": "code",
   "execution_count": 12,
   "id": "eeed8094",
   "metadata": {
    "height": 116
   },
   "outputs": [
    {
     "data": {
      "text/plain": [
       "\"\\n    [{'category': 'Computers and Laptops', 'products': ['TechPro Ultrabook', 'BlueWave Gaming Laptop', 'PowerLite Convertible', 'TechPro Desktop', 'BlueWave Chromebook']}]\""
      ]
     },
     "execution_count": 12,
     "metadata": {},
     "output_type": "execute_result"
    }
   ],
   "source": [
    "customer_msg_2 = f\"\"\"\n",
    "¿Qué computadoras tienen?\"\"\"\n",
    "\n",
    "products_by_category_2 = find_category_and_product_v1(customer_msg_2,\n",
    "                                                      products_and_category)\n",
    "products_by_category_2"
   ]
  },
  {
   "cell_type": "code",
   "execution_count": 13,
   "id": "01e48b0f",
   "metadata": {
    "height": 133
   },
   "outputs": [
    {
     "name": "stdout",
     "output_type": "stream",
     "text": [
      "\n",
      "    [{'category': 'Smartphones and Accessories', 'products': ['SmartX ProPhone']}, {'category': 'Cameras and Camcorders', 'products': ['FotoSnap DSLR Camera']}]\n",
      "    \n"
     ]
    }
   ],
   "source": [
    "customer_msg_3 = f\"\"\"\n",
    "háblame del teléfono smartx pro y la cámara fotosnap, la dslr.\n",
    "Además, ¿qué televisores tienen?\"\"\"\n",
    "\n",
    "products_by_category_3 = find_category_and_product_v1(customer_msg_3,\n",
    "                                                      products_and_category)\n",
    "print(products_by_category_3)"
   ]
  },
  {
   "cell_type": "markdown",
   "id": "4b09d273-b88a-4d1c-a5b8-f1e5066b4a2f",
   "metadata": {},
   "source": [
    "### Casos de prueba más difíciles\n",
    "Identificar consultas encontradas en producción, donde el modelo no funciona como se esperaba."
   ]
  },
  {
   "cell_type": "code",
   "execution_count": 14,
   "id": "9b5bb99e",
   "metadata": {
    "height": 133
   },
   "outputs": [
    {
     "name": "stdout",
     "output_type": "stream",
     "text": [
      "\n",
      "    [{'category': 'Televisions and Home Theater Systems', 'products': ['CineView 4K TV', 'CineView 8K TV']},\n",
      "     {'category': 'Gaming Consoles and Accessories', 'products': ['GameSphere X']},\n",
      "     {'category': 'Computers and Laptops', 'products': ['TechPro Ultrabook', 'BlueWave Gaming Laptop', 'PowerLite Convertible', 'TechPro Desktop', 'BlueWave Chromebook']}]\n"
     ]
    }
   ],
   "source": [
    "customer_msg_4 = f\"\"\"\n",
    "háblame del televisor CineView, el 8K, la consola Gamesphere, la X.\n",
    "Tengo un presupuesto limitado, ¿qué computadoras tienen?\"\"\"\n",
    "\n",
    "products_by_category_4 = find_category_and_product_v1(customer_msg_4,\n",
    "                                                      products_and_category)\n",
    "print(products_by_category_4)"
   ]
  },
  {
   "cell_type": "markdown",
   "id": "a7d12681-997d-43a5-8732-8f3aa9fc8cb3",
   "metadata": {},
   "source": [
    "### Modificar el prompt para que funcione en los casos de prueba difíciles"
   ]
  },
  {
   "cell_type": "code",
   "execution_count": 15,
   "id": "609ce420",
   "metadata": {
    "height": 1030
   },
   "outputs": [],
   "source": [
    "def find_category_and_product_v2(user_input,products_and_category):\n",
    "    \"\"\"\n",
    "    Añadido: No generar ningún texto adicional que no esté en formato JSON.\n",
    "    Añadido un segundo ejemplo (para few-shot prompting) donde el usuario pregunta por \n",
    "    la computadora más barata. En ambos ejemplos, la respuesta mostrada \n",
    "    es la lista completa de productos solo en formato JSON.\n",
    "    \"\"\"\n",
    "    delimiter = \"####\"\n",
    "    system_message = f\"\"\"Se te proporcionarán consultas de servicio al cliente. \\\n",
    "    La consulta de servicio al cliente estará delimitada por los caracteres {delimiter}.\n",
    "    Genera como salida una lista de Python de objetos JSON, donde cada objeto tiene el siguiente formato:\n",
    "        'category': <una de Computers and Laptops, Smartphones and Accessories, Televisions and Home Theater Systems, \\\n",
    "    Gaming Consoles and Accessories, Audio Equipment, Cameras and Camcorders>,\n",
    "    Y\n",
    "        'products': <una lista de productos que deben encontrarse en los productos permitidos a continuación>\n",
    "    No generes ningún texto adicional que no esté en formato JSON.\n",
    "    No escribas ningún texto explicativo después de generar el JSON solicitado.\n",
    "\n",
    "\n",
    "    Donde las categorías y productos deben encontrarse en la consulta de servicio al cliente.\n",
    "    Si se menciona un producto, debe estar asociado con la categoría correcta en la lista de productos permitidos a continuación.\n",
    "    Si no se encuentran productos o categorías, genera una lista vacía.\n",
    "    \n",
    "\n",
    "    Enumera todos los productos que son relevantes para la consulta del cliente basándote en qué tan cercanamente se relaciona\n",
    "    con el nombre del producto y la categoría del producto.\n",
    "    No asumas, a partir del nombre del producto, ninguna característica o atributo como calidad relativa o precio.\n",
    "\n",
    "    Los productos permitidos se proporcionan en formato JSON.\n",
    "    Las claves de cada elemento representan la categoría.\n",
    "    Los valores de cada elemento son una lista de productos que están dentro de esa categoría.\n",
    "    Productos permitidos: {products_and_category}\n",
    "    \n",
    "\n",
    "    \"\"\"\n",
    "    \n",
    "    few_shot_user_1 = \"\"\"Quiero la computadora más cara. ¿Qué me recomiendas?\"\"\"\n",
    "    few_shot_assistant_1 = \"\"\" \n",
    "    [{'category': 'Computers and Laptops', \\\n",
    "'products': ['TechPro Ultrabook', 'BlueWave Gaming Laptop', 'PowerLite Convertible', 'TechPro Desktop', 'BlueWave Chromebook']}]\n",
    "    \"\"\"\n",
    "    \n",
    "    few_shot_user_2 = \"\"\"Quiero la computadora más barata. ¿Qué me recomiendas?\"\"\"\n",
    "    few_shot_assistant_2 = \"\"\" \n",
    "    [{'category': 'Computers and Laptops', \\\n",
    "'products': ['TechPro Ultrabook', 'BlueWave Gaming Laptop', 'PowerLite Convertible', 'TechPro Desktop', 'BlueWave Chromebook']}]\n",
    "    \"\"\"\n",
    "    \n",
    "    messages =  [  \n",
    "    {'role':'system', 'content': system_message},    \n",
    "    {'role':'user', 'content': f\"{delimiter}{few_shot_user_1}{delimiter}\"},  \n",
    "    {'role':'assistant', 'content': few_shot_assistant_1 },\n",
    "    {'role':'user', 'content': f\"{delimiter}{few_shot_user_2}{delimiter}\"},  \n",
    "    {'role':'assistant', 'content': few_shot_assistant_2 },\n",
    "    {'role':'user', 'content': f\"{delimiter}{user_input}{delimiter}\"},  \n",
    "    ] \n",
    "    return get_completion_from_messages(messages)"
   ]
  },
  {
   "cell_type": "markdown",
   "id": "32c833b2-0494-4e7b-bfbc-38f67889fb15",
   "metadata": {},
   "source": [
    "### Evaluar el prompt modificado en los casos de prueba difíciles"
   ]
  },
  {
   "cell_type": "code",
   "execution_count": 16,
   "id": "6ae1f7ef",
   "metadata": {
    "height": 133
   },
   "outputs": [
    {
     "name": "stdout",
     "output_type": "stream",
     "text": [
      "\n",
      "    [{'category': 'Smartphones and Accessories', 'products': ['SmartX ProPhone']}, {'category': 'Cameras and Camcorders', 'products': ['FotoSnap DSLR Camera']}]\n",
      "    \n"
     ]
    }
   ],
   "source": [
    "customer_msg_3 = f\"\"\"\n",
    "háblame del teléfono smartx pro y la cámara fotosnap, la dslr.\n",
    "Además, ¿qué televisores tienen?\"\"\"\n",
    "\n",
    "products_by_category_3 = find_category_and_product_v2(customer_msg_3,\n",
    "                                                      products_and_category)\n",
    "print(products_by_category_3)"
   ]
  },
  {
   "cell_type": "markdown",
   "id": "6175e6a4-983c-44f7-8310-95a24bdf0c88",
   "metadata": {},
   "source": [
    "### Pruebas de regresión: verificar que el modelo aún funcione en los casos de prueba anteriores\n",
    "Comprobar que la modificación del modelo para corregir los casos de prueba difíciles no afecte negativamente su rendimiento en los casos de prueba anteriores."
   ]
  },
  {
   "cell_type": "code",
   "execution_count": 18,
   "id": "e65041cd",
   "metadata": {
    "height": 99
   },
   "outputs": [
    {
     "name": "stdout",
     "output_type": "stream",
     "text": [
      " \n",
      "    [{'category': 'Televisions and Home Theater Systems', 'products': ['CineView 4K TV', 'SoundMax Home Theater', 'CineView 8K TV', 'SoundMax Soundbar', 'CineView OLED TV']}]\n",
      "    \n"
     ]
    }
   ],
   "source": [
    "customer_msg_0 = f\"\"\"¿Qué televisor puedo comprar si tengo un presupuesto limitado?\"\"\"\n",
    "\n",
    "products_by_category_0 = find_category_and_product_v2(customer_msg_0,\n",
    "                                                      products_and_category)\n",
    "print(products_by_category_0)"
   ]
  },
  {
   "cell_type": "markdown",
   "id": "bf40ac24-fd1e-4d5d-b41f-760b3e0d4d68",
   "metadata": {},
   "source": [
    "### Reunir el conjunto de desarrollo para pruebas automatizadas"
   ]
  },
  {
   "cell_type": "code",
   "execution_count": 19,
   "id": "36e257c2",
   "metadata": {
    "height": 1642
   },
   "outputs": [],
   "source": [
    "msg_ideal_pairs_set = [\n",
    "    \n",
    "    # ej 0\n",
    "    {'customer_msg':\"\"\"¿Qué televisor puedo comprar si tengo un presupuesto limitado?\"\"\",\n",
    "     'ideal_answer':{\n",
    "         'Televisions and Home Theater Systems':set(\n",
    "             ['CineView 4K TV', 'SoundMax Home Theater', 'CineView 8K TV', 'SoundMax Soundbar', 'CineView OLED TV']\n",
    "         )}\n",
    "    },\n",
    "\n",
    "    # ej 1\n",
    "    {'customer_msg':\"\"\"Necesito un cargador para mi smartphone\"\"\",\n",
    "     'ideal_answer':{\n",
    "         'Smartphones and Accessories':set(\n",
    "             ['MobiTech PowerCase', 'MobiTech Wireless Charger', 'SmartX EarBuds']\n",
    "         )}\n",
    "    },\n",
    "    # ej 2\n",
    "    {'customer_msg':f\"\"\"¿Qué computadoras tienen?\"\"\",\n",
    "     'ideal_answer':{\n",
    "              'Computers and Laptops':set(\n",
    "                  ['TechPro Ultrabook', 'BlueWave Gaming Laptop', 'PowerLite Convertible', 'TechPro Desktop', 'BlueWave Chromebook'\n",
    "                  ])\n",
    "                   }\n",
    "    },\n",
    "\n",
    "    # ej 3\n",
    "    {'customer_msg':f\"\"\"háblame del teléfono smartx pro y \\\n",
    "    la cámara fotosnap, la dslr.\\\n",
    "    Además, ¿qué televisores tienen?\"\"\",\n",
    "     'ideal_answer':{\n",
    "         'Smartphones and Accessories':set(\n",
    "             ['SmartX ProPhone']),\n",
    "         'Cameras and Camcorders':set(\n",
    "             ['FotoSnap DSLR Camera']),\n",
    "         'Televisions and Home Theater Systems':set(\n",
    "             ['CineView 4K TV', 'SoundMax Home Theater','CineView 8K TV', 'SoundMax Soundbar', 'CineView OLED TV'])\n",
    "         }\n",
    "    }, \n",
    "    \n",
    "    # ej 4\n",
    "    {'customer_msg':\"\"\"háblame del televisor CineView, el 8K, la consola Gamesphere, la X.\n",
    "Tengo un presupuesto limitado, ¿qué computadoras tienen?\"\"\",\n",
    "     'ideal_answer':{\n",
    "         'Televisions and Home Theater Systems':set(\n",
    "             ['CineView 8K TV']),\n",
    "         'Gaming Consoles and Accessories':set(\n",
    "             ['GameSphere X']),\n",
    "         'Computers and Laptops':set(\n",
    "             ['TechPro Ultrabook', 'BlueWave Gaming Laptop', 'PowerLite Convertible', 'TechPro Desktop', 'BlueWave Chromebook'])\n",
    "         }\n",
    "    },\n",
    "    \n",
    "    # ej 5\n",
    "    {'customer_msg':f\"\"\"¿Qué smartphones tienen?\"\"\",\n",
    "     'ideal_answer':{\n",
    "              'Smartphones and Accessories':set(\n",
    "                  ['SmartX ProPhone', 'MobiTech PowerCase', 'SmartX MiniPhone', 'MobiTech Wireless Charger', 'SmartX EarBuds'\n",
    "                  ])\n",
    "                       }\n",
    "    },\n",
    "    # ej 6\n",
    "    {'customer_msg':f\"\"\"Tengo un presupuesto limitado. ¿Puedes recomendarme algunos smartphones?\"\"\",\n",
    "     'ideal_answer':{\n",
    "         'Smartphones and Accessories':set(\n",
    "             ['SmartX EarBuds', 'SmartX MiniPhone', 'MobiTech PowerCase', 'SmartX ProPhone', 'MobiTech Wireless Charger']\n",
    "         )}\n",
    "    },\n",
    "\n",
    "    # ej 7 # esto generará un subconjunto de la respuesta ideal\n",
    "    {'customer_msg':f\"\"\"¿Qué consolas de videojuegos serían buenas para mi amigo al que le gustan los juegos de carreras?\"\"\",\n",
    "     'ideal_answer':{\n",
    "         'Gaming Consoles and Accessories':set([\n",
    "             'GameSphere X',\n",
    "             'ProGamer Controller',\n",
    "             'GameSphere Y',\n",
    "             'ProGamer Racing Wheel',\n",
    "             'GameSphere VR Headset'\n",
    "       ])}\n",
    "    },\n",
    "    # ej 8\n",
    "    {'customer_msg':f\"\"\"¿Qué podría ser un buen regalo para mi amigo videógrafo?\"\"\",\n",
    "     'ideal_answer': {\n",
    "         'Cameras and Camcorders':set([\n",
    "         'FotoSnap DSLR Camera', 'ActionCam 4K', 'FotoSnap Mirrorless Camera', 'ZoomMaster Camcorder', 'FotoSnap Instant Camera'\n",
    "         ])}\n",
    "    },\n",
    "    \n",
    "    # ej 9\n",
    "    {'customer_msg':f\"\"\"Quisiera una máquina del tiempo en un jacuzzi.\"\"\",\n",
    "     'ideal_answer': []\n",
    "    }\n",
    "    \n",
    "]"
   ]
  },
  {
   "cell_type": "markdown",
   "id": "8aaccb7a-3cee-4189-9660-110427a4bb83",
   "metadata": {},
   "source": [
    "### Evaluar casos de prueba comparándolos con las respuestas ideales"
   ]
  },
  {
   "cell_type": "code",
   "execution_count": 20,
   "id": "66a7df29",
   "metadata": {
    "height": 1170
   },
   "outputs": [],
   "source": [
    "import json\n",
    "def eval_response_with_ideal(response,\n",
    "                             ideal,\n",
    "                             debug=False):\n",
    "    \n",
    "    if debug:\n",
    "        print(\"respuesta\")\n",
    "        print(response)\n",
    "    \n",
    "    # json.loads() espera comillas dobles, no simples\n",
    "    json_like_str = response.replace(\"'\",'\"')\n",
    "    \n",
    "    # convertir en una lista de diccionarios\n",
    "    l_of_d = json.loads(json_like_str)\n",
    "    \n",
    "    # caso especial cuando la respuesta es una lista vacía\n",
    "    if l_of_d == [] and ideal == []:\n",
    "        return 1\n",
    "    \n",
    "    # en otro caso, si la respuesta está vacía \n",
    "    # o la ideal debería estar vacía, hay una discrepancia\n",
    "    elif l_of_d == [] or ideal == []:\n",
    "        return 0\n",
    "    \n",
    "    correct = 0    \n",
    "    \n",
    "    if debug:\n",
    "        print(\"l_of_d es\")\n",
    "        print(l_of_d)\n",
    "    for d in l_of_d:\n",
    "\n",
    "        cat = d.get('category')\n",
    "        prod_l = d.get('products')\n",
    "        if cat and prod_l:\n",
    "            # convertir lista a conjunto para comparación\n",
    "            prod_set = set(prod_l)\n",
    "            # obtener el conjunto ideal de productos\n",
    "            ideal_cat = ideal.get(cat)\n",
    "            if ideal_cat:\n",
    "                prod_set_ideal = set(ideal.get(cat))\n",
    "            else:\n",
    "                if debug:\n",
    "                    print(f\"no se encontró la categoría {cat} en la respuesta ideal\")\n",
    "                    print(f\"ideal: {ideal}\")\n",
    "                continue\n",
    "                \n",
    "            if debug:\n",
    "                print(\"conjunto_productos\\n\",prod_set)\n",
    "                print()\n",
    "                print(\"conjunto_productos_ideal\\n\",prod_set_ideal)\n",
    "\n",
    "            if prod_set == prod_set_ideal:\n",
    "                if debug:\n",
    "                    print(\"correcto\")\n",
    "                correct +=1\n",
    "            else:\n",
    "                print(\"incorrecto\")\n",
    "                print(f\"conjunto_productos: {prod_set}\")\n",
    "                print(f\"conjunto_productos_ideal: {prod_set_ideal}\")\n",
    "                if prod_set <= prod_set_ideal:\n",
    "                    print(\"la respuesta es un subconjunto de la respuesta ideal\")\n",
    "                elif prod_set >= prod_set_ideal:\n",
    "                    print(\"la respuesta es un superconjunto de la respuesta ideal\")\n",
    "\n",
    "    # contar correctas sobre el número total de elementos en la lista\n",
    "    pc_correct = correct / len(l_of_d)\n",
    "        \n",
    "    return pc_correct"
   ]
  },
  {
   "cell_type": "code",
   "execution_count": 21,
   "id": "e7337ba6",
   "metadata": {
    "height": 65
   },
   "outputs": [
    {
     "name": "stdout",
     "output_type": "stream",
     "text": [
      "Mensaje del cliente: ¿Qué consolas de videojuegos serían buenas para mi amigo al que le gustan los juegos de carreras?\n",
      "Respuesta ideal: {'Gaming Consoles and Accessories': {'ProGamer Racing Wheel', 'GameSphere VR Headset', 'GameSphere Y', 'GameSphere X', 'ProGamer Controller'}}\n"
     ]
    }
   ],
   "source": [
    "print(f'Mensaje del cliente: {msg_ideal_pairs_set[7][\"customer_msg\"]}')\n",
    "print(f'Respuesta ideal: {msg_ideal_pairs_set[7][\"ideal_answer\"]}')"
   ]
  },
  {
   "cell_type": "code",
   "execution_count": 22,
   "id": "f109f542",
   "metadata": {
    "height": 116
   },
   "outputs": [
    {
     "name": "stdout",
     "output_type": "stream",
     "text": [
      "Respuesta: \n",
      "    [{'category': 'Gaming Consoles and Accessories', 'products': ['GameSphere X', 'ProGamer Controller', 'GameSphere Y', 'ProGamer Racing Wheel', 'GameSphere VR Headset']}]\n",
      "    \n"
     ]
    },
    {
     "data": {
      "text/plain": [
       "1.0"
      ]
     },
     "execution_count": 22,
     "metadata": {},
     "output_type": "execute_result"
    }
   ],
   "source": [
    "response = find_category_and_product_v2(msg_ideal_pairs_set[7][\"customer_msg\"],\n",
    "                                      products_and_category)\n",
    "print(f'Respuesta: {response}')\n",
    "\n",
    "eval_response_with_ideal(response,\n",
    "                         msg_ideal_pairs_set[7][\"ideal_answer\"])"
   ]
  },
  {
   "cell_type": "markdown",
   "id": "38ebaf7b-ee94-4b8c-b191-bf23864aed56",
   "metadata": {},
   "source": [
    "### Ejecutar evaluación en todos los casos de prueba y calcular la fracción de casos correctos"
   ]
  },
  {
   "cell_type": "code",
   "execution_count": 23,
   "id": "bb75bebc",
   "metadata": {
    "height": 405
   },
   "outputs": [
    {
     "name": "stdout",
     "output_type": "stream",
     "text": [
      "ejemplo 0\n",
      "0: 1.0\n",
      "ejemplo 1\n",
      "incorrecto\n",
      "conjunto_productos: {'MobiTech PowerCase', 'MobiTech Wireless Charger'}\n",
      "conjunto_productos_ideal: {'MobiTech PowerCase', 'MobiTech Wireless Charger', 'SmartX EarBuds'}\n",
      "la respuesta es un subconjunto de la respuesta ideal\n",
      "1: 0.0\n",
      "ejemplo 2\n",
      "2: 1.0\n",
      "ejemplo 3\n",
      "3: 1.0\n",
      "ejemplo 4\n",
      "incorrecto\n",
      "conjunto_productos: {'CineView 4K TV', 'CineView 8K TV'}\n",
      "conjunto_productos_ideal: {'CineView 8K TV'}\n",
      "la respuesta es un superconjunto de la respuesta ideal\n",
      "4: 0.6666666666666666\n",
      "ejemplo 5\n",
      "5: 1.0\n",
      "ejemplo 6\n",
      "6: 1.0\n",
      "ejemplo 7\n",
      "7: 1.0\n",
      "ejemplo 8\n",
      "8: 1.0\n",
      "ejemplo 9\n",
      "9: 1\n",
      "Fracción de respuestas correctas de un total de 10: 0.8666666666666666\n"
     ]
    }
   ],
   "source": [
    "# Nota, esto no funcionará si alguna de las llamadas a la API excede el tiempo de espera\n",
    "score_accum = 0\n",
    "for i, pair in enumerate(msg_ideal_pairs_set):\n",
    "    print(f\"ejemplo {i}\")\n",
    "    \n",
    "    customer_msg = pair['customer_msg']\n",
    "    ideal = pair['ideal_answer']\n",
    "    \n",
    "    # print(\"Mensaje del cliente\",customer_msg)\n",
    "    # print(\"ideal:\",ideal)\n",
    "    response = find_category_and_product_v2(customer_msg,\n",
    "                                          products_and_category)\n",
    "\n",
    "    \n",
    "    # print(\"productos_por_categoria\",products_by_category)\n",
    "    score = eval_response_with_ideal(response,ideal,debug=False)\n",
    "    print(f\"{i}: {score}\")\n",
    "    score_accum += score\n",
    "    \n",
    "\n",
    "n_examples = len(msg_ideal_pairs_set)\n",
    "fraction_correct = score_accum / n_examples\n",
    "print(f\"Fracción de respuestas correctas de un total de {n_examples}: {fraction_correct}\")"
   ]
  }
 ],
 "metadata": {
  "kernelspec": {
   "display_name": "Python 3 (ipykernel)",
   "language": "python",
   "name": "python3"
  },
  "language_info": {
   "codemirror_mode": {
    "name": "ipython",
    "version": 3
   },
   "file_extension": ".py",
   "mimetype": "text/x-python",
   "name": "python",
   "nbconvert_exporter": "python",
   "pygments_lexer": "ipython3",
   "version": "3.9.13"
  }
 },
 "nbformat": 4,
 "nbformat_minor": 5
}
